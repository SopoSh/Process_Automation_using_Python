{
  "nbformat": 4,
  "nbformat_minor": 0,
  "metadata": {
    "colab": {
      "provenance": [],
      "authorship_tag": "ABX9TyP7YyJ1tzIbLgQlnY/KsRy5"
    },
    "kernelspec": {
      "name": "python3",
      "display_name": "Python 3"
    },
    "language_info": {
      "name": "python"
    }
  },
  "cells": [
    {
      "cell_type": "markdown",
      "source": [
        "Example of lists, list comprehension, sorting, summation, and conditional statements in just several lines of code"
      ],
      "metadata": {
        "id": "xn6HtqjMZ5Y7"
      }
    },
    {
      "cell_type": "code",
      "execution_count": null,
      "metadata": {
        "colab": {
          "base_uri": "https://localhost:8080/"
        },
        "id": "knJTGnQ7YPT8",
        "outputId": "5bf98334-9902-4d73-fbee-9c9887f78e4d"
      },
      "outputs": [
        {
          "output_type": "stream",
          "name": "stdout",
          "text": [
            "30\n"
          ]
        }
      ],
      "source": [
        "numbers = [1, 2, 3, 4, 5, 6, 7, 8, 9, 10]\n",
        "\"\"\"sorts in descending order and sums up even numbers in the list\"\"\"\n",
        "result = sum(sorted((x for x in numbers if x % 2 == 0), reverse=True))\n",
        "print(result)"
      ]
    },
    {
      "cell_type": "code",
      "source": [
        "# install required packages, as they are not built in Google Colab\n",
        "!pip install lmproof pyttsx3 PyPDF2 gTTS python-docx language-tool-python"
      ],
      "metadata": {
        "id": "BIgw563ddxFR"
      },
      "execution_count": null,
      "outputs": []
    },
    {
      "cell_type": "markdown",
      "source": [
        "If you need to proofread some text, you can simply use lmproof library\n",
        "cannot guarantee that it will replace grammarly tho :)"
      ],
      "metadata": {
        "id": "uL7JSCSnaMXQ"
      }
    },
    {
      "cell_type": "code",
      "source": [
        "# Python Proofreading\n",
        "import lmproof\n",
        "def proofread(text):\n",
        "    proofread = lmproof.load(\"en\")\n",
        "    correction = proofread.proofread(text)\n",
        "    print(\"Original: {}\".format(text))\n",
        "    print(\"Correction: {}\".format(correction))\n",
        "    \n",
        "proofread(\"I don't make gramatical mistakes!\")\n",
        "\n",
        "\n",
        "# proofread entire txt file\n",
        "from google.colab import drive\n",
        "import difflib\n",
        "drive.mount('/content/drive')\n",
        "\n",
        "filepath = '/content/drive/MyDrive/python/rand_txt.txt'\n",
        "\n",
        "def proofread_file(file_path):\n",
        "    proofread = lmproof.load(\"en\")\n",
        "    \n",
        "    with open(file_path, 'r') as file:\n",
        "        text = file.read()\n",
        "        \n",
        "    correction = proofread.proofread(text)\n",
        "    \n",
        "    print(\"Original:\\n{}\".format(text))\n",
        "    print(\"\\nCorrection:\\n{}\".format(correction))\n",
        "\n",
        "proofread_file(filepath)\n"
      ],
      "metadata": {
        "id": "05UIdtdEaW7U"
      },
      "execution_count": null,
      "outputs": []
    },
    {
      "cell_type": "markdown",
      "source": [
        "Make your own screenreader"
      ],
      "metadata": {
        "id": "GkbNACu3cgcf"
      }
    },
    {
      "cell_type": "code",
      "source": [
        "from gtts import gTTS\n",
        "import pyttsx3\n",
        "import PyPDF2\n",
        "\n",
        "from google.colab import drive\n",
        "drive.mount('/content/drive')\n",
        "\n",
        "filepath = '/content/drive/MyDrive/python/rand_text.pdf'\n",
        "\n",
        "pdf_reader = PyPDF2.PdfReader(open(filepath, \"rb\"))\n",
        "reader = pyttsx3.init()\n",
        "\n",
        "for page in range(len(pdf_reader.pages)):\n",
        "    text = pdf_reader.pages[page].extract_text()\n",
        "    legible_text = text.strip().replace(\"\\n\", \" \")\n",
        "\n",
        "    print(legible_text)\n",
        "\n",
        "    tts = gTTS(text=legible_text, lang='en')  # Create a gTTS object with the text and language\n",
        "    tts.save(\"/content/drive/MyDrive/python/file_gtts.mp3\")  # Save the speech as an MP3 file\n",
        "\n",
        "    reader.say(legible_text)\n",
        "    reader.runAndWait()\n",
        "\n",
        "reader.stop()\n",
        "# drive.flush_and_unmount()"
      ],
      "metadata": {
        "id": "qxHXga4Tlqhu"
      },
      "execution_count": null,
      "outputs": []
    }
  ]
}