{
  "nbformat": 4,
  "nbformat_minor": 0,
  "metadata": {
    "colab": {
      "provenance": [],
      "authorship_tag": "ABX9TyPVmiEDdM0Tdf0MqLM9L1Xe"
    },
    "kernelspec": {
      "name": "python3",
      "display_name": "Python 3"
    },
    "language_info": {
      "name": "python"
    }
  },
  "cells": [
    {
      "cell_type": "markdown",
      "source": [
        "Example of lists, list comprehension, sorting, summation, and conditional statements in just several lines of code"
      ],
      "metadata": {
        "id": "xn6HtqjMZ5Y7"
      }
    },
    {
      "cell_type": "code",
      "execution_count": null,
      "metadata": {
        "colab": {
          "base_uri": "https://localhost:8080/"
        },
        "id": "knJTGnQ7YPT8",
        "outputId": "5bf98334-9902-4d73-fbee-9c9887f78e4d"
      },
      "outputs": [
        {
          "output_type": "stream",
          "name": "stdout",
          "text": [
            "30\n"
          ]
        }
      ],
      "source": [
        "numbers = [1, 2, 3, 4, 5, 6, 7, 8, 9, 10]\n",
        "\"\"\"sorts in descending order and sums up even numbers in the list\"\"\"\n",
        "result = sum(sorted((x for x in numbers if x % 2 == 0), reverse=True))\n",
        "print(result)"
      ]
    }
  ]
}